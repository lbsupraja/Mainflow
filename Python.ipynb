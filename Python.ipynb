{
 "cells": [
  {
   "cell_type": "code",
   "execution_count": 5,
   "id": "9faf8675-155f-4504-acdc-5d67a01ca355",
   "metadata": {},
   "outputs": [
    {
     "name": "stdin",
     "output_type": "stream",
     "text": [
      "Enter first number:  10\n",
      "Enter second number:  30\n"
     ]
    },
    {
     "name": "stdout",
     "output_type": "stream",
     "text": [
      "The sum is: 40\n"
     ]
    }
   ],
   "source": [
    "num1 = int(input(\"Enter first number: \"))\n",
    "num2 = int(input(\"Enter second number: \"))\n",
    "sum_result = num1 + num2\n",
    "\n",
    "print(\"The sum is:\", sum_result)\n"
   ]
  },
  {
   "cell_type": "code",
   "execution_count": 7,
   "id": "4c3e77f6-cfdc-4f4a-8b84-950f9088fd7e",
   "metadata": {},
   "outputs": [
    {
     "name": "stdin",
     "output_type": "stream",
     "text": [
      "Enter parking spot number:  10\n"
     ]
    },
    {
     "name": "stdout",
     "output_type": "stream",
     "text": [
      "Allocated for Cars\n"
     ]
    }
   ],
   "source": [
    "spot_number = int(input(\"Enter parking spot number: \"))\n",
    "\n",
    "if spot_number % 2 == 0:\n",
    "    print(\"Allocated for Cars\")\n",
    "else:\n",
    "    print(\"Allocated for Bikes\")\n"
   ]
  },
  {
   "cell_type": "code",
   "execution_count": 11,
   "id": "ae17f264-e04e-4fed-9065-e87281d8ddb1",
   "metadata": {},
   "outputs": [
    {
     "name": "stdin",
     "output_type": "stream",
     "text": [
      "Enter a number:  8\n"
     ]
    },
    {
     "name": "stdout",
     "output_type": "stream",
     "text": [
      "The factorial of 8 is 40320\n"
     ]
    }
   ],
   "source": [
    "n = int(input(\"Enter a number: \"))\n",
    "factorial = 1\n",
    "if n < 0:\n",
    "    print(\"Factorial is not defined for negative numbers.\")\n",
    "else:\n",
    "    for i in range(1, n + 1):\n",
    "        factorial *= i\n",
    "\n",
    "    \n",
    "    print(f\"The factorial of {n} is {factorial}\")\n"
   ]
  },
  {
   "cell_type": "code",
   "execution_count": 15,
   "id": "b69739cf-8105-4529-a6fd-4b33883e4c03",
   "metadata": {},
   "outputs": [
    {
     "name": "stdin",
     "output_type": "stream",
     "text": [
      "Enter the number of months:  4\n"
     ]
    },
    {
     "name": "stdout",
     "output_type": "stream",
     "text": [
      "Total rabbit pairs after 4 months: 3\n"
     ]
    }
   ],
   "source": [
    "months = int(input(\"Enter the number of months: \"))\n",
    "a, b = 1, 1  \n",
    "for i in range(2, months):\n",
    "    a, b = b, a + b\n",
    "print(f\"Total rabbit pairs after {months} months: {b}\")\n"
   ]
  },
  {
   "cell_type": "code",
   "execution_count": 17,
   "id": "e7f49a43-ae2c-4d59-9187-6f2a8cf9d6c9",
   "metadata": {},
   "outputs": [
    {
     "name": "stdin",
     "output_type": "stream",
     "text": [
      "Enter password:  Python123\n"
     ]
    },
    {
     "name": "stdout",
     "output_type": "stream",
     "text": [
      "Encrypted password: 321nohtyP\n"
     ]
    }
   ],
   "source": [
    "password = input(\"Enter password: \")\n",
    "encrypted = password[::-1]\n",
    "print(\"Encrypted password:\", encrypted)\n"
   ]
  },
  {
   "cell_type": "code",
   "execution_count": 19,
   "id": "3969fb66-a8d3-459c-b88e-6ff01c30d064",
   "metadata": {},
   "outputs": [
    {
     "name": "stdin",
     "output_type": "stream",
     "text": [
      "Enter date (DDMMYYYY):  23122001\n"
     ]
    },
    {
     "name": "stdout",
     "output_type": "stream",
     "text": [
      "Palindrome Date: False\n"
     ]
    }
   ],
   "source": [
    "date = input(\"Enter date (DDMMYYYY): \")\n",
    "is_palindrome = date == date[::-1]\n",
    "print(\"Palindrome Date:\", is_palindrome)\n"
   ]
  },
  {
   "cell_type": "code",
   "execution_count": 21,
   "id": "9d4f22b3-b1c0-4633-b185-cfb69d82c078",
   "metadata": {},
   "outputs": [
    {
     "name": "stdin",
     "output_type": "stream",
     "text": [
      "Enter a year:  2001\n"
     ]
    },
    {
     "name": "stdout",
     "output_type": "stream",
     "text": [
      "February has 28 days.\n"
     ]
    }
   ],
   "source": [
    "year = int(input(\"Enter a year: \"))\n",
    "if (year % 4 == 0 and year % 100 != 0):\n",
    "    print(\"February has 29 days.\")\n",
    "else:\n",
    "    print(\"February has 28 days.\")\n"
   ]
  },
  {
   "cell_type": "code",
   "execution_count": 23,
   "id": "66f566da-eaa8-46e9-9807-6e620a260662",
   "metadata": {},
   "outputs": [
    {
     "name": "stdin",
     "output_type": "stream",
     "text": [
      "Enter code:  9474\n"
     ]
    },
    {
     "name": "stdout",
     "output_type": "stream",
     "text": [
      "Secure Code: True\n"
     ]
    }
   ],
   "source": [
    "code = int(input(\"Enter code: \"))\n",
    "is_secure = code == sum(int(digit) ** len(str(code)) for digit in str(code))\n",
    "print(\"Secure Code:\", is_secure)\n"
   ]
  },
  {
   "cell_type": "code",
   "execution_count": 35,
   "id": "93f1fcf3-64b7-4f61-a83e-8a9616d09027",
   "metadata": {},
   "outputs": [
    {
     "name": "stdin",
     "output_type": "stream",
     "text": [
      "Enter a number:  371\n"
     ]
    },
    {
     "name": "stdout",
     "output_type": "stream",
     "text": [
      "True\n"
     ]
    }
   ],
   "source": [
    "n = int(input(\"Enter a number: \"))\n",
    "num_str = str(n)  \n",
    "num_digits = len(num_str)  \n",
    "armstrong_sum = sum(int(digit) ** num_digits for digit in num_str)\n",
    "print(n == armstrong_sum)\n"
   ]
  },
  {
   "cell_type": "code",
   "execution_count": 3,
   "id": "323566a1-588e-4e3c-9be4-f586cff16de2",
   "metadata": {},
   "outputs": [
    {
     "name": "stdin",
     "output_type": "stream",
     "text": [
      "Enter a message to encrypt:  MohanBabu\n"
     ]
    },
    {
     "name": "stdout",
     "output_type": "stream",
     "text": [
      "Encrypted Message: cfvidjijz\n",
      "Decrypted Message: mohanbabu\n"
     ]
    }
   ],
   "source": [
    "import string\n",
    "def generate_key():\n",
    "    alphabet = string.ascii_lowercase\n",
    "    shuffled = list(alphabet)\n",
    "    import random\n",
    "    random.shuffle(shuffled)\n",
    "    return dict(zip(alphabet, shuffled)), dict(zip(shuffled, alphabet))\n",
    "    \n",
    "def encrypt(message, key):\n",
    "    message = message.lower()  \n",
    "    encrypted_message = \"\"\n",
    "    \n",
    "    for char in message:\n",
    "        if char in key:\n",
    "            encrypted_message += key[char]\n",
    "        else:\n",
    "            encrypted_message += char\n",
    "    \n",
    "    return encrypted_message\n",
    "def decrypt(encrypted_message, reverse_key):\n",
    "    decrypted_message = \"\"\n",
    "    \n",
    "    for char in encrypted_message:\n",
    "        if char in reverse_key:\n",
    "            decrypted_message += reverse_key[char]\n",
    "        else:\n",
    "            decrypted_message += char  \n",
    "    \n",
    "    return decrypted_message\n",
    "\n",
    "\n",
    "def main():\n",
    "    \n",
    "    encryption_key, decryption_key = generate_key()\n",
    "    message = input(\"Enter a message to encrypt: \")\n",
    "    \n",
    "    \n",
    "    encrypted_message = encrypt(message, encryption_key)\n",
    "    print(\"Encrypted Message:\", encrypted_message)\n",
    "    decrypted_message = decrypt(encrypted_message, decryption_key)\n",
    "    print(\"Decrypted Message:\", decrypted_message)\n",
    "\n",
    "if __name__ == \"__main__\":\n",
    "    main()\n"
   ]
  },
  {
   "cell_type": "code",
   "execution_count": null,
   "id": "b7bda71a-a5bc-4fa7-a92f-8813a06d0b13",
   "metadata": {},
   "outputs": [],
   "source": []
  }
 ],
 "metadata": {
  "kernelspec": {
   "display_name": "Python 3 (ipykernel)",
   "language": "python",
   "name": "python3"
  },
  "language_info": {
   "codemirror_mode": {
    "name": "ipython",
    "version": 3
   },
   "file_extension": ".py",
   "mimetype": "text/x-python",
   "name": "python",
   "nbconvert_exporter": "python",
   "pygments_lexer": "ipython3",
   "version": "3.12.4"
  }
 },
 "nbformat": 4,
 "nbformat_minor": 5
}
